{
 "cells": [
  {
   "cell_type": "markdown",
   "id": "84ee83a8",
   "metadata": {},
   "source": [
    "# Import libraries"
   ]
  },
  {
   "cell_type": "code",
   "execution_count": 1,
   "id": "076e3c21-b602-4baf-b8f6-c32949beffe1",
   "metadata": {},
   "outputs": [],
   "source": [
    "import os\n",
    "\n",
    "import numpy as np\n",
    "from pathlib import Path\n",
    "from sklearn.utils import shuffle"
   ]
  },
  {
   "cell_type": "markdown",
   "id": "b3afcf82-27bd-44c2-80d2-f7c0fc4734e6",
   "metadata": {},
   "source": [
    "# Creating a structure for storing training data for the generator"
   ]
  },
  {
   "cell_type": "code",
   "execution_count": 2,
   "id": "eb2d2928-41b8-465c-9df1-38e823230dea",
   "metadata": {},
   "outputs": [],
   "source": [
    "path_base = r\"D:\\KWork\\captcha-cracker\"\n",
    "os.chdir(path_base)"
   ]
  },
  {
   "cell_type": "code",
   "execution_count": null,
   "id": "6aa97472",
   "metadata": {},
   "outputs": [],
   "source": [
    "os.chdir(\"base\")\n",
    "list_main_folders = [\"train\", \"validation\"]\n",
    "list_class_folders = os.listdir()\n",
    "\n",
    "print(list_class_folders, \"\\n\", os.getcwd())"
   ]
  },
  {
   "cell_type": "code",
   "execution_count": 4,
   "id": "30ed202d-d9d8-4d2d-a4be-d3df9dcd4a52",
   "metadata": {},
   "outputs": [],
   "source": [
    "os.chdir(\"..\")\n",
    "\n",
    "if not os.path.isdir(\"data\"):\n",
    "    os.mkdir(\"data\")\n",
    "\n",
    "os.chdir(\"data\")\n",
    "\n",
    "for folder in list_main_folders:\n",
    "    if not os.path.isdir(folder):\n",
    "        os.mkdir(folder)\n",
    "\n",
    "for folder in list_main_folders:\n",
    "    os.chdir(folder)\n",
    "    for class_folder in list_class_folders:\n",
    "        if not os.path.isdir(class_folder):\n",
    "            os.mkdir(class_folder)\n",
    "            \n",
    "    os.chdir(\"..\")"
   ]
  },
  {
   "cell_type": "code",
   "execution_count": 7,
   "id": "751b410e-f339-4e37-93f5-499aaf0f7af8",
   "metadata": {},
   "outputs": [
    {
     "data": {
      "text/plain": [
       "['captcha (3).png',\n",
       " 'captcha(1003).png',\n",
       " 'captcha(1008).png',\n",
       " 'captcha(101).png',\n",
       " 'captcha(1015).png']"
      ]
     },
     "execution_count": 7,
     "metadata": {},
     "output_type": "execute_result"
    }
   ],
   "source": [
    "dict_classes = {}\n",
    "for _class in list_class_folders:\n",
    "    dict_classes[_class] = None\n",
    "\n",
    "for folder in list_class_folders:\n",
    "    os.chdir(folder)\n",
    "    dict_classes[folder] = os.listdir()\n",
    "    os.chdir(\"..\")\n",
    "\n",
    "dict_classes[\"airplane\"][:5]"
   ]
  },
  {
   "cell_type": "code",
   "execution_count": 10,
   "id": "dfee2672-a3d0-4e21-bf12-4f66dfa01e48",
   "metadata": {},
   "outputs": [
    {
     "name": "stdout",
     "output_type": "stream",
     "text": [
      "airplane:\n",
      "train - 428\n",
      "validation - 184\n",
      "\n",
      "bicycle:\n",
      "train - 380\n",
      "validation - 164\n",
      "\n",
      "boat:\n",
      "train - 329\n",
      "validation - 141\n",
      "\n",
      "bus:\n",
      "train - 461\n",
      "validation - 199\n",
      "\n",
      "car:\n",
      "train - 606\n",
      "validation - 261\n",
      "\n",
      "motorcycle:\n",
      "train - 505\n",
      "validation - 217\n",
      "\n",
      "train:\n",
      "train - 499\n",
      "validation - 215\n",
      "\n",
      "truck:\n",
      "train - 578\n",
      "validation - 248\n",
      "\n"
     ]
    }
   ],
   "source": [
    "for _class in list_class_folders:\n",
    "    dict_classes[_class] = shuffle(dict_classes[_class], random_state=42)\n",
    "\n",
    "train_file_dict = dict_classes.copy()\n",
    "val_file_dict = dict_classes.copy()\n",
    "\n",
    "for _class in list_class_folders:\n",
    "    train_count = int(len(dict_classes[_class]) * 0.7)\n",
    "    train_file_dict[_class] = dict_classes[_class][:train_count]\n",
    "    val_file_dict[_class] = dict_classes[_class][train_count:]\n",
    "    print(f\"{_class}:\\ntrain - {len(train_file_dict[_class])}\\nvalidation - {len(val_file_dict[_class])}\\n\")"
   ]
  },
  {
   "cell_type": "code",
   "execution_count": 12,
   "id": "b56d7d0b-e97f-4e77-9117-93bc0e816592",
   "metadata": {},
   "outputs": [],
   "source": [
    "file_source = Path(path_base) / \"base\"\n",
    "train_file_destination = Path(path_base) / \"data\" / \"train\"\n",
    "val_file_destination = Path(path_base) / \"data\" / \"validation\""
   ]
  },
  {
   "cell_type": "markdown",
   "id": "0c64529b-baf9-4cc9-8582-4aa24c680f05",
   "metadata": {},
   "source": [
    "# Cropping and saving images"
   ]
  },
  {
   "cell_type": "code",
   "execution_count": 37,
   "id": "2178ddce-1a6e-48e1-9c1f-a7f6b5e6a5af",
   "metadata": {},
   "outputs": [],
   "source": [
    "def preprocess_image(_image):\n",
    "    from PIL import Image\n",
    "    \n",
    "    crop_image = _image.crop((20, 30, 110, 90))\n",
    "    crop_image = crop_image.resize((128, 128), Image.ANTIALIAS)\n",
    "    \n",
    "    return crop_image\n",
    "\n",
    "def crop_and_save(dict_with_class, path_for_save=None):\n",
    "    from PIL import Image\n",
    "    \n",
    "    assert path_for_save is not None, \"Specify the path to save\"\n",
    "    \n",
    "    for _class in list_class_folders:\n",
    "        i = 0\n",
    "        for name in dict_with_class[_class]:\n",
    "            i += 1\n",
    "            save_name = _class + \"_\" + str(i)\n",
    "            img = Image.open(file_source / _class / name)\n",
    "            crop = preprocess_image(img)\n",
    "            crop.save(path_for_save / _class / f\"{save_name}.png\", \"PNG\")\n",
    "            \n",
    "        print(f\"Class - {_class} | complete\")\n",
    "        print(f\"Total files: {len(os.listdir(path=path_for_save / _class))}\")"
   ]
  },
  {
   "cell_type": "code",
   "execution_count": 38,
   "id": "f5557ae9-c239-4320-9008-41c13df23556",
   "metadata": {},
   "outputs": [
    {
     "name": "stdout",
     "output_type": "stream",
     "text": [
      "Class - airplane | complete\n",
      "Total files: 429\n",
      "Class - bicycle | complete\n",
      "Total files: 380\n",
      "Class - boat | complete\n",
      "Total files: 329\n",
      "Class - bus | complete\n",
      "Total files: 461\n",
      "Class - car | complete\n",
      "Total files: 606\n",
      "Class - motorcycle | complete\n",
      "Total files: 505\n",
      "Class - train | complete\n",
      "Total files: 499\n",
      "Class - truck | complete\n",
      "Total files: 578\n"
     ]
    }
   ],
   "source": [
    "crop_and_save(train_file_dict, path_for_save=train_file_destination)\n",
    "crop_and_save(val_file_dict, path_for_save=val_file_destination)"
   ]
  }
 ],
 "metadata": {
  "kernelspec": {
   "display_name": "Python 3 (ipykernel)",
   "language": "python",
   "name": "python3"
  },
  "language_info": {
   "codemirror_mode": {
    "name": "ipython",
    "version": 3
   },
   "file_extension": ".py",
   "mimetype": "text/x-python",
   "name": "python",
   "nbconvert_exporter": "python",
   "pygments_lexer": "ipython3",
   "version": "3.8.11"
  }
 },
 "nbformat": 4,
 "nbformat_minor": 5
}
